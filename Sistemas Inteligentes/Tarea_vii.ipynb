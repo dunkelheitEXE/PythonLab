{
 "cells": [
  {
   "cell_type": "code",
   "execution_count": 3,
   "id": "1494dc3a",
   "metadata": {},
   "outputs": [
    {
     "name": "stdout",
     "output_type": "stream",
     "text": [
      "Index(['student_id', 'date', 'age', 'gender', 'country', 'grade', 'mood',\n",
      "       'stress_level', 'sleep_hours', 'screen_time_hours', 'used_ai_today',\n",
      "       'ai_tool', 'journaled_today', 'meditated_today', 'exercised_today',\n",
      "       'social_interaction_rating', 'support_feeling'],\n",
      "      dtype='object')\n"
     ]
    }
   ],
   "source": [
    "import pandas as pd\n",
    "import numpy as np\n",
    "\n",
    "dataset = pd.read_csv('modern_teen_mental_health_main.csv')\n",
    "print(dataset.columns)"
   ]
  }
 ],
 "metadata": {
  "kernelspec": {
   "display_name": "venv",
   "language": "python",
   "name": "python3"
  },
  "language_info": {
   "codemirror_mode": {
    "name": "ipython",
    "version": 3
   },
   "file_extension": ".py",
   "mimetype": "text/x-python",
   "name": "python",
   "nbconvert_exporter": "python",
   "pygments_lexer": "ipython3",
   "version": "3.11.2"
  }
 },
 "nbformat": 4,
 "nbformat_minor": 5
}
